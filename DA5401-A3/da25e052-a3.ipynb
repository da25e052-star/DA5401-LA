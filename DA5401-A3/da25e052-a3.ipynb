{
 "cells": [
  {
   "cell_type": "markdown",
   "metadata": {},
   "source": [
    "## Part A: Data Exploration and Baseline Model [10 points]"
   ]
  },
  {
   "cell_type": "markdown",
   "metadata": {},
   "source": [
    "### Load and Analyze the Dataset [1]"
   ]
  },
  {
   "cell_type": "code",
   "execution_count": 11,
   "metadata": {
    "execution": {
     "iopub.execute_input": "2025-09-08T08:34:57.540617Z",
     "iopub.status.busy": "2025-09-08T08:34:57.540406Z",
     "iopub.status.idle": "2025-09-08T08:34:57.547426Z",
     "shell.execute_reply": "2025-09-08T08:34:57.546823Z",
     "shell.execute_reply.started": "2025-09-08T08:34:57.540597Z"
    },
    "trusted": true
   },
   "outputs": [],
   "source": [
    "import warnings\n",
    "warnings.filterwarnings('ignore')"
   ]
  },
  {
   "cell_type": "code",
   "execution_count": 12,
   "metadata": {
    "execution": {
     "iopub.execute_input": "2025-09-08T08:34:57.548543Z",
     "iopub.status.busy": "2025-09-08T08:34:57.548229Z",
     "iopub.status.idle": "2025-09-08T08:35:00.986833Z",
     "shell.execute_reply": "2025-09-08T08:35:00.985890Z",
     "shell.execute_reply.started": "2025-09-08T08:34:57.548517Z"
    },
    "trusted": true
   },
   "outputs": [],
   "source": [
    "import numpy as np\n",
    "import pandas as pd\n",
    "import seaborn as sns\n",
    "import matplotlib.pyplot as plt"
   ]
  },
  {
   "cell_type": "code",
   "execution_count": 13,
   "metadata": {
    "_cell_guid": "b1076dfc-b9ad-4769-8c92-a6c4dae69d19",
    "_uuid": "8f2839f25d086af736a60e9eeb907d3b93b6e0e5",
    "execution": {
     "iopub.execute_input": "2025-09-08T08:35:00.989446Z",
     "iopub.status.busy": "2025-09-08T08:35:00.988983Z",
     "iopub.status.idle": "2025-09-08T08:35:05.043802Z",
     "shell.execute_reply": "2025-09-08T08:35:05.042986Z",
     "shell.execute_reply.started": "2025-09-08T08:35:00.989417Z"
    },
    "trusted": true
   },
   "outputs": [
    {
     "name": "stdout",
     "output_type": "stream",
     "text": [
      "Credit Card dataset shape: (284807, 31)\n"
     ]
    },
    {
     "data": {
      "text/html": [
       "<div>\n",
       "<style scoped>\n",
       "    .dataframe tbody tr th:only-of-type {\n",
       "        vertical-align: middle;\n",
       "    }\n",
       "\n",
       "    .dataframe tbody tr th {\n",
       "        vertical-align: top;\n",
       "    }\n",
       "\n",
       "    .dataframe thead th {\n",
       "        text-align: right;\n",
       "    }\n",
       "</style>\n",
       "<table border=\"1\" class=\"dataframe\">\n",
       "  <thead>\n",
       "    <tr style=\"text-align: right;\">\n",
       "      <th></th>\n",
       "      <th>Time</th>\n",
       "      <th>V1</th>\n",
       "      <th>V2</th>\n",
       "      <th>V3</th>\n",
       "      <th>V4</th>\n",
       "      <th>V5</th>\n",
       "      <th>V6</th>\n",
       "      <th>V7</th>\n",
       "      <th>V8</th>\n",
       "      <th>V9</th>\n",
       "      <th>...</th>\n",
       "      <th>V21</th>\n",
       "      <th>V22</th>\n",
       "      <th>V23</th>\n",
       "      <th>V24</th>\n",
       "      <th>V25</th>\n",
       "      <th>V26</th>\n",
       "      <th>V27</th>\n",
       "      <th>V28</th>\n",
       "      <th>Amount</th>\n",
       "      <th>Class</th>\n",
       "    </tr>\n",
       "  </thead>\n",
       "  <tbody>\n",
       "    <tr>\n",
       "      <th>0</th>\n",
       "      <td>0.0</td>\n",
       "      <td>-1.359807</td>\n",
       "      <td>-0.072781</td>\n",
       "      <td>2.536347</td>\n",
       "      <td>1.378155</td>\n",
       "      <td>-0.338321</td>\n",
       "      <td>0.462388</td>\n",
       "      <td>0.239599</td>\n",
       "      <td>0.098698</td>\n",
       "      <td>0.363787</td>\n",
       "      <td>...</td>\n",
       "      <td>-0.018307</td>\n",
       "      <td>0.277838</td>\n",
       "      <td>-0.110474</td>\n",
       "      <td>0.066928</td>\n",
       "      <td>0.128539</td>\n",
       "      <td>-0.189115</td>\n",
       "      <td>0.133558</td>\n",
       "      <td>-0.021053</td>\n",
       "      <td>149.62</td>\n",
       "      <td>0</td>\n",
       "    </tr>\n",
       "    <tr>\n",
       "      <th>1</th>\n",
       "      <td>0.0</td>\n",
       "      <td>1.191857</td>\n",
       "      <td>0.266151</td>\n",
       "      <td>0.166480</td>\n",
       "      <td>0.448154</td>\n",
       "      <td>0.060018</td>\n",
       "      <td>-0.082361</td>\n",
       "      <td>-0.078803</td>\n",
       "      <td>0.085102</td>\n",
       "      <td>-0.255425</td>\n",
       "      <td>...</td>\n",
       "      <td>-0.225775</td>\n",
       "      <td>-0.638672</td>\n",
       "      <td>0.101288</td>\n",
       "      <td>-0.339846</td>\n",
       "      <td>0.167170</td>\n",
       "      <td>0.125895</td>\n",
       "      <td>-0.008983</td>\n",
       "      <td>0.014724</td>\n",
       "      <td>2.69</td>\n",
       "      <td>0</td>\n",
       "    </tr>\n",
       "    <tr>\n",
       "      <th>2</th>\n",
       "      <td>1.0</td>\n",
       "      <td>-1.358354</td>\n",
       "      <td>-1.340163</td>\n",
       "      <td>1.773209</td>\n",
       "      <td>0.379780</td>\n",
       "      <td>-0.503198</td>\n",
       "      <td>1.800499</td>\n",
       "      <td>0.791461</td>\n",
       "      <td>0.247676</td>\n",
       "      <td>-1.514654</td>\n",
       "      <td>...</td>\n",
       "      <td>0.247998</td>\n",
       "      <td>0.771679</td>\n",
       "      <td>0.909412</td>\n",
       "      <td>-0.689281</td>\n",
       "      <td>-0.327642</td>\n",
       "      <td>-0.139097</td>\n",
       "      <td>-0.055353</td>\n",
       "      <td>-0.059752</td>\n",
       "      <td>378.66</td>\n",
       "      <td>0</td>\n",
       "    </tr>\n",
       "  </tbody>\n",
       "</table>\n",
       "<p>3 rows × 31 columns</p>\n",
       "</div>"
      ],
      "text/plain": [
       "   Time        V1        V2        V3        V4        V5        V6        V7  \\\n",
       "0   0.0 -1.359807 -0.072781  2.536347  1.378155 -0.338321  0.462388  0.239599   \n",
       "1   0.0  1.191857  0.266151  0.166480  0.448154  0.060018 -0.082361 -0.078803   \n",
       "2   1.0 -1.358354 -1.340163  1.773209  0.379780 -0.503198  1.800499  0.791461   \n",
       "\n",
       "         V8        V9  ...       V21       V22       V23       V24       V25  \\\n",
       "0  0.098698  0.363787  ... -0.018307  0.277838 -0.110474  0.066928  0.128539   \n",
       "1  0.085102 -0.255425  ... -0.225775 -0.638672  0.101288 -0.339846  0.167170   \n",
       "2  0.247676 -1.514654  ...  0.247998  0.771679  0.909412 -0.689281 -0.327642   \n",
       "\n",
       "        V26       V27       V28  Amount  Class  \n",
       "0 -0.189115  0.133558 -0.021053  149.62      0  \n",
       "1  0.125895 -0.008983  0.014724    2.69      0  \n",
       "2 -0.139097 -0.055353 -0.059752  378.66      0  \n",
       "\n",
       "[3 rows x 31 columns]"
      ]
     },
     "metadata": {},
     "output_type": "display_data"
    }
   ],
   "source": [
    "# creditcard_url = \"/kaggle/input/creditcardfraud/creditcard.csv\"\n",
    "creditcard_url = \"creditcard.csv\"\n",
    "df = pd.read_csv(creditcard_url)\n",
    "print(\"Credit Card dataset shape:\", df.shape)\n",
    "display(df.head(3))"
   ]
  },
  {
   "cell_type": "code",
   "execution_count": 14,
   "metadata": {
    "execution": {
     "iopub.execute_input": "2025-09-08T08:35:05.044947Z",
     "iopub.status.busy": "2025-09-08T08:35:05.044604Z",
     "iopub.status.idle": "2025-09-08T08:35:05.492916Z",
     "shell.execute_reply": "2025-09-08T08:35:05.492161Z",
     "shell.execute_reply.started": "2025-09-08T08:35:05.044919Z"
    },
    "trusted": true
   },
   "outputs": [
    {
     "data": {
      "text/html": [
       "<div>\n",
       "<style scoped>\n",
       "    .dataframe tbody tr th:only-of-type {\n",
       "        vertical-align: middle;\n",
       "    }\n",
       "\n",
       "    .dataframe tbody tr th {\n",
       "        vertical-align: top;\n",
       "    }\n",
       "\n",
       "    .dataframe thead th {\n",
       "        text-align: right;\n",
       "    }\n",
       "</style>\n",
       "<table border=\"1\" class=\"dataframe\">\n",
       "  <thead>\n",
       "    <tr style=\"text-align: right;\">\n",
       "      <th></th>\n",
       "      <th>Time</th>\n",
       "      <th>V1</th>\n",
       "      <th>V2</th>\n",
       "      <th>V3</th>\n",
       "      <th>V4</th>\n",
       "      <th>V5</th>\n",
       "      <th>V6</th>\n",
       "      <th>V7</th>\n",
       "      <th>V8</th>\n",
       "      <th>V9</th>\n",
       "      <th>...</th>\n",
       "      <th>V21</th>\n",
       "      <th>V22</th>\n",
       "      <th>V23</th>\n",
       "      <th>V24</th>\n",
       "      <th>V25</th>\n",
       "      <th>V26</th>\n",
       "      <th>V27</th>\n",
       "      <th>V28</th>\n",
       "      <th>Amount</th>\n",
       "      <th>Class</th>\n",
       "    </tr>\n",
       "  </thead>\n",
       "  <tbody>\n",
       "    <tr>\n",
       "      <th>count</th>\n",
       "      <td>284807.000000</td>\n",
       "      <td>2.848070e+05</td>\n",
       "      <td>2.848070e+05</td>\n",
       "      <td>2.848070e+05</td>\n",
       "      <td>2.848070e+05</td>\n",
       "      <td>2.848070e+05</td>\n",
       "      <td>2.848070e+05</td>\n",
       "      <td>2.848070e+05</td>\n",
       "      <td>2.848070e+05</td>\n",
       "      <td>2.848070e+05</td>\n",
       "      <td>...</td>\n",
       "      <td>2.848070e+05</td>\n",
       "      <td>2.848070e+05</td>\n",
       "      <td>2.848070e+05</td>\n",
       "      <td>2.848070e+05</td>\n",
       "      <td>2.848070e+05</td>\n",
       "      <td>2.848070e+05</td>\n",
       "      <td>2.848070e+05</td>\n",
       "      <td>2.848070e+05</td>\n",
       "      <td>284807.000000</td>\n",
       "      <td>284807.000000</td>\n",
       "    </tr>\n",
       "    <tr>\n",
       "      <th>mean</th>\n",
       "      <td>94813.859575</td>\n",
       "      <td>1.168375e-15</td>\n",
       "      <td>3.416908e-16</td>\n",
       "      <td>-1.379537e-15</td>\n",
       "      <td>2.074095e-15</td>\n",
       "      <td>9.604066e-16</td>\n",
       "      <td>1.487313e-15</td>\n",
       "      <td>-5.556467e-16</td>\n",
       "      <td>1.213481e-16</td>\n",
       "      <td>-2.406331e-15</td>\n",
       "      <td>...</td>\n",
       "      <td>1.654067e-16</td>\n",
       "      <td>-3.568593e-16</td>\n",
       "      <td>2.578648e-16</td>\n",
       "      <td>4.473266e-15</td>\n",
       "      <td>5.340915e-16</td>\n",
       "      <td>1.683437e-15</td>\n",
       "      <td>-3.660091e-16</td>\n",
       "      <td>-1.227390e-16</td>\n",
       "      <td>88.349619</td>\n",
       "      <td>0.001727</td>\n",
       "    </tr>\n",
       "    <tr>\n",
       "      <th>std</th>\n",
       "      <td>47488.145955</td>\n",
       "      <td>1.958696e+00</td>\n",
       "      <td>1.651309e+00</td>\n",
       "      <td>1.516255e+00</td>\n",
       "      <td>1.415869e+00</td>\n",
       "      <td>1.380247e+00</td>\n",
       "      <td>1.332271e+00</td>\n",
       "      <td>1.237094e+00</td>\n",
       "      <td>1.194353e+00</td>\n",
       "      <td>1.098632e+00</td>\n",
       "      <td>...</td>\n",
       "      <td>7.345240e-01</td>\n",
       "      <td>7.257016e-01</td>\n",
       "      <td>6.244603e-01</td>\n",
       "      <td>6.056471e-01</td>\n",
       "      <td>5.212781e-01</td>\n",
       "      <td>4.822270e-01</td>\n",
       "      <td>4.036325e-01</td>\n",
       "      <td>3.300833e-01</td>\n",
       "      <td>250.120109</td>\n",
       "      <td>0.041527</td>\n",
       "    </tr>\n",
       "    <tr>\n",
       "      <th>min</th>\n",
       "      <td>0.000000</td>\n",
       "      <td>-5.640751e+01</td>\n",
       "      <td>-7.271573e+01</td>\n",
       "      <td>-4.832559e+01</td>\n",
       "      <td>-5.683171e+00</td>\n",
       "      <td>-1.137433e+02</td>\n",
       "      <td>-2.616051e+01</td>\n",
       "      <td>-4.355724e+01</td>\n",
       "      <td>-7.321672e+01</td>\n",
       "      <td>-1.343407e+01</td>\n",
       "      <td>...</td>\n",
       "      <td>-3.483038e+01</td>\n",
       "      <td>-1.093314e+01</td>\n",
       "      <td>-4.480774e+01</td>\n",
       "      <td>-2.836627e+00</td>\n",
       "      <td>-1.029540e+01</td>\n",
       "      <td>-2.604551e+00</td>\n",
       "      <td>-2.256568e+01</td>\n",
       "      <td>-1.543008e+01</td>\n",
       "      <td>0.000000</td>\n",
       "      <td>0.000000</td>\n",
       "    </tr>\n",
       "    <tr>\n",
       "      <th>25%</th>\n",
       "      <td>54201.500000</td>\n",
       "      <td>-9.203734e-01</td>\n",
       "      <td>-5.985499e-01</td>\n",
       "      <td>-8.903648e-01</td>\n",
       "      <td>-8.486401e-01</td>\n",
       "      <td>-6.915971e-01</td>\n",
       "      <td>-7.682956e-01</td>\n",
       "      <td>-5.540759e-01</td>\n",
       "      <td>-2.086297e-01</td>\n",
       "      <td>-6.430976e-01</td>\n",
       "      <td>...</td>\n",
       "      <td>-2.283949e-01</td>\n",
       "      <td>-5.423504e-01</td>\n",
       "      <td>-1.618463e-01</td>\n",
       "      <td>-3.545861e-01</td>\n",
       "      <td>-3.171451e-01</td>\n",
       "      <td>-3.269839e-01</td>\n",
       "      <td>-7.083953e-02</td>\n",
       "      <td>-5.295979e-02</td>\n",
       "      <td>5.600000</td>\n",
       "      <td>0.000000</td>\n",
       "    </tr>\n",
       "    <tr>\n",
       "      <th>50%</th>\n",
       "      <td>84692.000000</td>\n",
       "      <td>1.810880e-02</td>\n",
       "      <td>6.548556e-02</td>\n",
       "      <td>1.798463e-01</td>\n",
       "      <td>-1.984653e-02</td>\n",
       "      <td>-5.433583e-02</td>\n",
       "      <td>-2.741871e-01</td>\n",
       "      <td>4.010308e-02</td>\n",
       "      <td>2.235804e-02</td>\n",
       "      <td>-5.142873e-02</td>\n",
       "      <td>...</td>\n",
       "      <td>-2.945017e-02</td>\n",
       "      <td>6.781943e-03</td>\n",
       "      <td>-1.119293e-02</td>\n",
       "      <td>4.097606e-02</td>\n",
       "      <td>1.659350e-02</td>\n",
       "      <td>-5.213911e-02</td>\n",
       "      <td>1.342146e-03</td>\n",
       "      <td>1.124383e-02</td>\n",
       "      <td>22.000000</td>\n",
       "      <td>0.000000</td>\n",
       "    </tr>\n",
       "    <tr>\n",
       "      <th>75%</th>\n",
       "      <td>139320.500000</td>\n",
       "      <td>1.315642e+00</td>\n",
       "      <td>8.037239e-01</td>\n",
       "      <td>1.027196e+00</td>\n",
       "      <td>7.433413e-01</td>\n",
       "      <td>6.119264e-01</td>\n",
       "      <td>3.985649e-01</td>\n",
       "      <td>5.704361e-01</td>\n",
       "      <td>3.273459e-01</td>\n",
       "      <td>5.971390e-01</td>\n",
       "      <td>...</td>\n",
       "      <td>1.863772e-01</td>\n",
       "      <td>5.285536e-01</td>\n",
       "      <td>1.476421e-01</td>\n",
       "      <td>4.395266e-01</td>\n",
       "      <td>3.507156e-01</td>\n",
       "      <td>2.409522e-01</td>\n",
       "      <td>9.104512e-02</td>\n",
       "      <td>7.827995e-02</td>\n",
       "      <td>77.165000</td>\n",
       "      <td>0.000000</td>\n",
       "    </tr>\n",
       "    <tr>\n",
       "      <th>max</th>\n",
       "      <td>172792.000000</td>\n",
       "      <td>2.454930e+00</td>\n",
       "      <td>2.205773e+01</td>\n",
       "      <td>9.382558e+00</td>\n",
       "      <td>1.687534e+01</td>\n",
       "      <td>3.480167e+01</td>\n",
       "      <td>7.330163e+01</td>\n",
       "      <td>1.205895e+02</td>\n",
       "      <td>2.000721e+01</td>\n",
       "      <td>1.559499e+01</td>\n",
       "      <td>...</td>\n",
       "      <td>2.720284e+01</td>\n",
       "      <td>1.050309e+01</td>\n",
       "      <td>2.252841e+01</td>\n",
       "      <td>4.584549e+00</td>\n",
       "      <td>7.519589e+00</td>\n",
       "      <td>3.517346e+00</td>\n",
       "      <td>3.161220e+01</td>\n",
       "      <td>3.384781e+01</td>\n",
       "      <td>25691.160000</td>\n",
       "      <td>1.000000</td>\n",
       "    </tr>\n",
       "  </tbody>\n",
       "</table>\n",
       "<p>8 rows × 31 columns</p>\n",
       "</div>"
      ],
      "text/plain": [
       "                Time            V1            V2            V3            V4  \\\n",
       "count  284807.000000  2.848070e+05  2.848070e+05  2.848070e+05  2.848070e+05   \n",
       "mean    94813.859575  1.168375e-15  3.416908e-16 -1.379537e-15  2.074095e-15   \n",
       "std     47488.145955  1.958696e+00  1.651309e+00  1.516255e+00  1.415869e+00   \n",
       "min         0.000000 -5.640751e+01 -7.271573e+01 -4.832559e+01 -5.683171e+00   \n",
       "25%     54201.500000 -9.203734e-01 -5.985499e-01 -8.903648e-01 -8.486401e-01   \n",
       "50%     84692.000000  1.810880e-02  6.548556e-02  1.798463e-01 -1.984653e-02   \n",
       "75%    139320.500000  1.315642e+00  8.037239e-01  1.027196e+00  7.433413e-01   \n",
       "max    172792.000000  2.454930e+00  2.205773e+01  9.382558e+00  1.687534e+01   \n",
       "\n",
       "                 V5            V6            V7            V8            V9  \\\n",
       "count  2.848070e+05  2.848070e+05  2.848070e+05  2.848070e+05  2.848070e+05   \n",
       "mean   9.604066e-16  1.487313e-15 -5.556467e-16  1.213481e-16 -2.406331e-15   \n",
       "std    1.380247e+00  1.332271e+00  1.237094e+00  1.194353e+00  1.098632e+00   \n",
       "min   -1.137433e+02 -2.616051e+01 -4.355724e+01 -7.321672e+01 -1.343407e+01   \n",
       "25%   -6.915971e-01 -7.682956e-01 -5.540759e-01 -2.086297e-01 -6.430976e-01   \n",
       "50%   -5.433583e-02 -2.741871e-01  4.010308e-02  2.235804e-02 -5.142873e-02   \n",
       "75%    6.119264e-01  3.985649e-01  5.704361e-01  3.273459e-01  5.971390e-01   \n",
       "max    3.480167e+01  7.330163e+01  1.205895e+02  2.000721e+01  1.559499e+01   \n",
       "\n",
       "       ...           V21           V22           V23           V24  \\\n",
       "count  ...  2.848070e+05  2.848070e+05  2.848070e+05  2.848070e+05   \n",
       "mean   ...  1.654067e-16 -3.568593e-16  2.578648e-16  4.473266e-15   \n",
       "std    ...  7.345240e-01  7.257016e-01  6.244603e-01  6.056471e-01   \n",
       "min    ... -3.483038e+01 -1.093314e+01 -4.480774e+01 -2.836627e+00   \n",
       "25%    ... -2.283949e-01 -5.423504e-01 -1.618463e-01 -3.545861e-01   \n",
       "50%    ... -2.945017e-02  6.781943e-03 -1.119293e-02  4.097606e-02   \n",
       "75%    ...  1.863772e-01  5.285536e-01  1.476421e-01  4.395266e-01   \n",
       "max    ...  2.720284e+01  1.050309e+01  2.252841e+01  4.584549e+00   \n",
       "\n",
       "                V25           V26           V27           V28         Amount  \\\n",
       "count  2.848070e+05  2.848070e+05  2.848070e+05  2.848070e+05  284807.000000   \n",
       "mean   5.340915e-16  1.683437e-15 -3.660091e-16 -1.227390e-16      88.349619   \n",
       "std    5.212781e-01  4.822270e-01  4.036325e-01  3.300833e-01     250.120109   \n",
       "min   -1.029540e+01 -2.604551e+00 -2.256568e+01 -1.543008e+01       0.000000   \n",
       "25%   -3.171451e-01 -3.269839e-01 -7.083953e-02 -5.295979e-02       5.600000   \n",
       "50%    1.659350e-02 -5.213911e-02  1.342146e-03  1.124383e-02      22.000000   \n",
       "75%    3.507156e-01  2.409522e-01  9.104512e-02  7.827995e-02      77.165000   \n",
       "max    7.519589e+00  3.517346e+00  3.161220e+01  3.384781e+01   25691.160000   \n",
       "\n",
       "               Class  \n",
       "count  284807.000000  \n",
       "mean        0.001727  \n",
       "std         0.041527  \n",
       "min         0.000000  \n",
       "25%         0.000000  \n",
       "50%         0.000000  \n",
       "75%         0.000000  \n",
       "max         1.000000  \n",
       "\n",
       "[8 rows x 31 columns]"
      ]
     },
     "execution_count": 14,
     "metadata": {},
     "output_type": "execute_result"
    }
   ],
   "source": [
    "# Basic summary\n",
    "df.describe()"
   ]
  },
  {
   "cell_type": "code",
   "execution_count": 15,
   "metadata": {
    "execution": {
     "iopub.execute_input": "2025-09-08T08:35:05.493977Z",
     "iopub.status.busy": "2025-09-08T08:35:05.493711Z",
     "iopub.status.idle": "2025-09-08T08:35:05.529246Z",
     "shell.execute_reply": "2025-09-08T08:35:05.528272Z",
     "shell.execute_reply.started": "2025-09-08T08:35:05.493951Z"
    },
    "trusted": true
   },
   "outputs": [
    {
     "data": {
      "text/plain": [
       "Time      0\n",
       "V1        0\n",
       "V2        0\n",
       "V3        0\n",
       "V4        0\n",
       "V5        0\n",
       "V6        0\n",
       "V7        0\n",
       "V8        0\n",
       "V9        0\n",
       "V10       0\n",
       "V11       0\n",
       "V12       0\n",
       "V13       0\n",
       "V14       0\n",
       "V15       0\n",
       "V16       0\n",
       "V17       0\n",
       "V18       0\n",
       "V19       0\n",
       "V20       0\n",
       "V21       0\n",
       "V22       0\n",
       "V23       0\n",
       "V24       0\n",
       "V25       0\n",
       "V26       0\n",
       "V27       0\n",
       "V28       0\n",
       "Amount    0\n",
       "Class     0\n",
       "dtype: int64"
      ]
     },
     "execution_count": 15,
     "metadata": {},
     "output_type": "execute_result"
    }
   ],
   "source": [
    "# Count of NaN values in each col\n",
    "df.isna().sum()"
   ]
  },
  {
   "cell_type": "code",
   "execution_count": 16,
   "metadata": {
    "execution": {
     "iopub.execute_input": "2025-09-08T08:35:05.530414Z",
     "iopub.status.busy": "2025-09-08T08:35:05.530118Z",
     "iopub.status.idle": "2025-09-08T08:35:05.537050Z",
     "shell.execute_reply": "2025-09-08T08:35:05.536374Z",
     "shell.execute_reply.started": "2025-09-08T08:35:05.530388Z"
    },
    "trusted": true
   },
   "outputs": [
    {
     "data": {
      "text/plain": [
       "Time      float64\n",
       "V1        float64\n",
       "V2        float64\n",
       "V3        float64\n",
       "V4        float64\n",
       "V5        float64\n",
       "V6        float64\n",
       "V7        float64\n",
       "V8        float64\n",
       "V9        float64\n",
       "V10       float64\n",
       "V11       float64\n",
       "V12       float64\n",
       "V13       float64\n",
       "V14       float64\n",
       "V15       float64\n",
       "V16       float64\n",
       "V17       float64\n",
       "V18       float64\n",
       "V19       float64\n",
       "V20       float64\n",
       "V21       float64\n",
       "V22       float64\n",
       "V23       float64\n",
       "V24       float64\n",
       "V25       float64\n",
       "V26       float64\n",
       "V27       float64\n",
       "V28       float64\n",
       "Amount    float64\n",
       "Class       int64\n",
       "dtype: object"
      ]
     },
     "execution_count": 16,
     "metadata": {},
     "output_type": "execute_result"
    }
   ],
   "source": [
    "# Data type of each column\n",
    "df.dtypes"
   ]
  },
  {
   "cell_type": "markdown",
   "metadata": {},
   "source": [
    "### Analyze Class Distribution [2]"
   ]
  },
  {
   "cell_type": "code",
   "execution_count": 17,
   "metadata": {
    "execution": {
     "iopub.execute_input": "2025-09-08T08:35:05.538186Z",
     "iopub.status.busy": "2025-09-08T08:35:05.537898Z",
     "iopub.status.idle": "2025-09-08T08:35:05.928720Z",
     "shell.execute_reply": "2025-09-08T08:35:05.927876Z",
     "shell.execute_reply.started": "2025-09-08T08:35:05.538157Z"
    },
    "trusted": true
   },
   "outputs": [
    {
     "data": {
      "text/plain": [
       "<Axes: ylabel='count'>"
      ]
     },
     "execution_count": 17,
     "metadata": {},
     "output_type": "execute_result"
    },
    {
     "data": {
      "image/png": "[encoded data removed]",
      "text/plain": [
       "<Figure size 640x480 with 1 Axes>"
      ]
     },
     "metadata": {},
     "output_type": "display_data"
    }
   ],
   "source": [
    "df['Class'].value_counts().plot.pie(\n",
    "    labels=['Not Fraud (0)', 'Fraud (1)'], \n",
    "    autopct='%1.1f%%', \n",
    "    colors=['green', 'red'], \n",
    "    startangle=90)"
   ]
  },
  {
   "cell_type": "code",
   "execution_count": 18,
   "metadata": {
    "execution": {
     "iopub.execute_input": "2025-09-08T08:35:05.929852Z",
     "iopub.status.busy": "2025-09-08T08:35:05.929566Z",
     "iopub.status.idle": "2025-09-08T08:35:05.938416Z",
     "shell.execute_reply": "2025-09-08T08:35:05.937762Z",
     "shell.execute_reply.started": "2025-09-08T08:35:05.929823Z"
    },
    "trusted": true
   },
   "outputs": [
    {
     "name": "stdout",
     "output_type": "stream",
     "text": [
      "Imbalance Ratio (Non-Fraudulent : Fraudulent) ≈ 577.88 : 1\n"
     ]
    }
   ],
   "source": [
    "# Print imbalance ratio\n",
    "class_counts = df['Class'].value_counts()\n",
    "imbalance_ratio = class_counts[0] / class_counts[1]\n",
    "print(f\"Imbalance Ratio (Non-Fraudulent : Fraudulent) ≈ {imbalance_ratio:.2f} : 1\")"
   ]
  },
  {
   "cell_type": "markdown",
   "metadata": {},
   "source": [
    "### Baseline Model [7]"
   ]
  },
  {
   "cell_type": "code",
   "execution_count": 22,
   "metadata": {
    "execution": {
     "iopub.execute_input": "2025-09-08T08:35:05.941048Z",
     "iopub.status.busy": "2025-09-08T08:35:05.940806Z",
     "iopub.status.idle": "2025-09-08T08:35:06.280631Z",
     "shell.execute_reply": "2025-09-08T08:35:06.279739Z",
     "shell.execute_reply.started": "2025-09-08T08:35:05.941028Z"
    },
    "trusted": true
   },
   "outputs": [],
   "source": [
    "from sklearn.model_selection import train_test_split\n",
    "train_df, test_df = train_test_split(df, test_size=0.2, \n",
    "                                     stratify=df['Class'], \n",
    "                                     random_state=42)"
   ]
  },
  {
   "cell_type": "code",
   "execution_count": 23,
   "metadata": {
    "execution": {
     "iopub.execute_input": "2025-09-08T08:35:06.281746Z",
     "iopub.status.busy": "2025-09-08T08:35:06.281437Z",
     "iopub.status.idle": "2025-09-08T08:35:06.315965Z",
     "shell.execute_reply": "2025-09-08T08:35:06.315224Z",
     "shell.execute_reply.started": "2025-09-08T08:35:06.281720Z"
    },
    "trusted": true
   },
   "outputs": [
    {
     "name": "stdout",
     "output_type": "stream",
     "text": [
      "X_train shape: (227845, 30)\n",
      "y_train shape: (227845,)\n",
      "Train class counts:\n",
      " Class\n",
      "0    227451\n",
      "1       394\n",
      "Name: count, dtype: int64\n",
      "X_test shape: (56962, 30)\n",
      "y_test shape: (56962,)\n",
      "Test class counts:\n",
      " Class\n",
      "0    56864\n",
      "1       98\n",
      "Name: count, dtype: int64\n"
     ]
    }
   ],
   "source": [
    "X_train = train_df.drop('Class', axis=1)\n",
    "y_train = train_df['Class']\n",
    "X_test = test_df.drop('Class', axis=1)\n",
    "y_test = test_df['Class']\n",
    "\n",
    "print(\"X_train shape:\", X_train.shape)\n",
    "print(\"y_train shape:\", y_train.shape)\n",
    "print(\"Train class counts:\\n\", y_train.value_counts())\n",
    "\n",
    "print(\"X_test shape:\", X_test.shape)\n",
    "print(\"y_test shape:\", y_test.shape)\n",
    "print(\"Test class counts:\\n\", y_test.value_counts())"
   ]
  },
  {
   "cell_type": "code",
   "execution_count": 24,
   "metadata": {
    "execution": {
     "iopub.execute_input": "2025-09-08T08:35:06.317142Z",
     "iopub.status.busy": "2025-09-08T08:35:06.316845Z",
     "iopub.status.idle": "2025-09-08T08:35:12.923920Z",
     "shell.execute_reply": "2025-09-08T08:35:12.923187Z",
     "shell.execute_reply.started": "2025-09-08T08:35:06.317117Z"
    },
    "trusted": true
   },
   "outputs": [
    {
     "data": {
      "text/html": [
       "<style>#sk-container-id-1 {color: black;}#sk-container-id-1 pre{padding: 0;}#sk-container-id-1 div.sk-toggleable {background-color: white;}#sk-container-id-1 label.sk-toggleable__label {cursor: pointer;display: block;width: 100%;margin-bottom: 0;padding: 0.3em;box-sizing: border-box;text-align: center;}#sk-container-id-1 label.sk-toggleable__label-arrow:before {content: \"▸\";float: left;margin-right: 0.25em;color: #696969;}#sk-container-id-1 label.sk-toggleable__label-arrow:hover:before {color: black;}#sk-container-id-1 div.sk-estimator:hover label.sk-toggleable__label-arrow:before {color: black;}#sk-container-id-1 div.sk-toggleable__content {max-height: 0;max-width: 0;overflow: hidden;text-align: left;background-color: #f0f8ff;}#sk-container-id-1 div.sk-toggleable__content pre {margin: 0.2em;color: black;border-radius: 0.25em;background-color: #f0f8ff;}#sk-container-id-1 input.sk-toggleable__control:checked~div.sk-toggleable__content {max-height: 200px;max-width: 100%;overflow: auto;}#sk-container-id-1 input.sk-toggleable__control:checked~label.sk-toggleable__label-arrow:before {content: \"▾\";}#sk-container-id-1 div.sk-estimator input.sk-toggleable__control:checked~label.sk-toggleable__label {background-color: #d4ebff;}#sk-container-id-1 div.sk-label input.sk-toggleable__control:checked~label.sk-toggleable__label {background-color: #d4ebff;}#sk-container-id-1 input.sk-hidden--visually {border: 0;clip: rect(1px 1px 1px 1px);clip: rect(1px, 1px, 1px, 1px);height: 1px;margin: -1px;overflow: hidden;padding: 0;position: absolute;width: 1px;}#sk-container-id-1 div.sk-estimator {font-family: monospace;background-color: #f0f8ff;border: 1px dotted black;border-radius: 0.25em;box-sizing: border-box;margin-bottom: 0.5em;}#sk-container-id-1 div.sk-estimator:hover {background-color: #d4ebff;}#sk-container-id-1 div.sk-parallel-item::after {content: \"\";width: 100%;border-bottom: 1px solid gray;flex-grow: 1;}#sk-container-id-1 div.sk-label:hover label.sk-toggleable__label {background-color: #d4ebff;}#sk-container-id-1 div.sk-serial::before {content: \"\";position: absolute;border-left: 1px solid gray;box-sizing: border-box;top: 0;bottom: 0;left: 50%;z-index: 0;}#sk-container-id-1 div.sk-serial {display: flex;flex-direction: column;align-items: center;background-color: white;padding-right: 0.2em;padding-left: 0.2em;position: relative;}#sk-container-id-1 div.sk-item {position: relative;z-index: 1;}#sk-container-id-1 div.sk-parallel {display: flex;align-items: stretch;justify-content: center;background-color: white;position: relative;}#sk-container-id-1 div.sk-item::before, #sk-container-id-1 div.sk-parallel-item::before {content: \"\";position: absolute;border-left: 1px solid gray;box-sizing: border-box;top: 0;bottom: 0;left: 50%;z-index: -1;}#sk-container-id-1 div.sk-parallel-item {display: flex;flex-direction: column;z-index: 1;position: relative;background-color: white;}#sk-container-id-1 div.sk-parallel-item:first-child::after {align-self: flex-end;width: 50%;}#sk-container-id-1 div.sk-parallel-item:last-child::after {align-self: flex-start;width: 50%;}#sk-container-id-1 div.sk-parallel-item:only-child::after {width: 0;}#sk-container-id-1 div.sk-dashed-wrapped {border: 1px dashed gray;margin: 0 0.4em 0.5em 0.4em;box-sizing: border-box;padding-bottom: 0.4em;background-color: white;}#sk-container-id-1 div.sk-label label {font-family: monospace;font-weight: bold;display: inline-block;line-height: 1.2em;}#sk-container-id-1 div.sk-label-container {text-align: center;}#sk-container-id-1 div.sk-container {/* jupyter's `normalize.less` sets `[hidden] { display: none; }` but bootstrap.min.css set `[hidden] { display: none !important; }` so we also need the `!important` here to be able to override the default hidden behavior on the sphinx rendered scikit-learn.org. See: https://github.com/scikit-learn/scikit-learn/issues/21755 */display: inline-block !important;position: relative;}#sk-container-id-1 div.sk-text-repr-fallback {display: none;}</style><div id=\"sk-container-id-1\" class=\"sk-top-container\"><div class=\"sk-text-repr-fallback\"><pre>LogisticRegression(max_iter=1000, random_state=42)</pre><b>In a Jupyter environment, please rerun this cell to show the HTML representation or trust the notebook. <br />On GitHub, the HTML representation is unable to render, please try loading this page with nbviewer.org.</b></div><div class=\"sk-container\" hidden><div class=\"sk-item\"><div class=\"sk-estimator sk-toggleable\"><input class=\"sk-toggleable__control sk-hidden--visually\" id=\"sk-estimator-id-1\" type=\"checkbox\" checked><label for=\"sk-estimator-id-1\" class=\"sk-toggleable__label sk-toggleable__label-arrow\">LogisticRegression</label><div class=\"sk-toggleable__content\"><pre>LogisticRegression(max_iter=1000, random_state=42)</pre></div></div></div></div></div>"
      ],
      "text/plain": [
       "LogisticRegression(max_iter=1000, random_state=42)"
      ]
     },
     "execution_count": 24,
     "metadata": {},
     "output_type": "execute_result"
    }
   ],
   "source": [
    "from sklearn.linear_model import LogisticRegression\n",
    "model1 = LogisticRegression(max_iter=1000, random_state=42)\n",
    "model1.fit(X_train, y_train)"
   ]
  },
  {
   "cell_type": "code",
   "execution_count": 25,
   "metadata": {
    "execution": {
     "iopub.execute_input": "2025-09-08T08:35:12.924824Z",
     "iopub.status.busy": "2025-09-08T08:35:12.924537Z",
     "iopub.status.idle": "2025-09-08T08:35:13.064089Z",
     "shell.execute_reply": "2025-09-08T08:35:13.063264Z",
     "shell.execute_reply.started": "2025-09-08T08:35:12.924801Z"
    },
    "trusted": true
   },
   "outputs": [
    {
     "name": "stdout",
     "output_type": "stream",
     "text": [
      "Accuracy: 0.9991573329588147\n",
      "Precision (Fraud): 0.7777777777777778\n",
      "Recall (Fraud): 0.7142857142857143\n",
      "F1-score (Fraud): 0.7446808510638298\n",
      "              precision    recall  f1-score   support\n",
      "\n",
      "           0       1.00      1.00      1.00     56864\n",
      "           1       0.78      0.71      0.74        98\n",
      "\n",
      "    accuracy                           1.00     56962\n",
      "   macro avg       0.89      0.86      0.87     56962\n",
      "weighted avg       1.00      1.00      1.00     56962\n",
      "\n"
     ]
    }
   ],
   "source": [
    "from sklearn.metrics import classification_report, confusion_matrix, accuracy_score, precision_score, recall_score, f1_score\n",
    "\n",
    "y_pred = model1.predict(X_test)\n",
    "y_proba = model1.predict_proba(X_test)[:, 1]\n",
    "\n",
    "print(\"Accuracy:\", accuracy_score(y_test, y_pred))\n",
    "print(\"Precision (Fraud):\", precision_score(y_test, y_pred))\n",
    "print(\"Recall (Fraud):\", recall_score(y_test, y_pred))\n",
    "print(\"F1-score (Fraud):\", f1_score(y_test, y_pred))\n",
    "print(classification_report(y_test, y_pred))"
   ]
  },
  {
   "cell_type": "code",
   "execution_count": 26,
   "metadata": {
    "execution": {
     "iopub.execute_input": "2025-09-08T08:35:13.065371Z",
     "iopub.status.busy": "2025-09-08T08:35:13.065052Z",
     "iopub.status.idle": "2025-09-08T08:35:13.243728Z",
     "shell.execute_reply": "2025-09-08T08:35:13.242670Z",
     "shell.execute_reply.started": "2025-09-08T08:35:13.065346Z"
    },
    "trusted": true
   },
   "outputs": [
    {
     "data": {
      "image/png": "[encoded data removed]",
      "text/plain": [
       "<Figure size 640x480 with 2 Axes>"
      ]
     },
     "metadata": {},
     "output_type": "display_data"
    }
   ],
   "source": [
    "cm = confusion_matrix(y_test, y_pred)\n",
    "sns.heatmap(cm, annot=True, fmt='d', cmap='Blues', xticklabels=['Not Fraud', 'Fraud'], yticklabels=['Not Fraud', 'Fraud'])\n",
    "plt.xlabel('Predicted')\n",
    "plt.ylabel('Actual')\n",
    "plt.title('Confusion Matrix')\n",
    "plt.show()"
   ]
  },
  {
   "cell_type": "markdown",
   "metadata": {},
   "source": [
    "***Why accuracy is a misleading metric in this scenario?***\n",
    "\n",
    "Accuracy is misleading here because the dataset is highly imbalanced—fraud cases are very rare (\\~0.17%), so a model that predicts only non-fraud will still have very high accuracy (\\~99.9%) but fail to detect fraud. Precision, recall, and F1-score for the minority class better reflect the model’s ability to identify fraudulent transactions."
   ]
  },
  {
   "cell_type": "markdown",
   "metadata": {},
   "source": [
    "## Part B: Resampling Approaches [25 points]"
   ]
  },
  {
   "cell_type": "markdown",
   "metadata": {},
   "source": [
    "### Naive Oversampling (SMOTE): [5]"
   ]
  },
  {
   "cell_type": "code",
   "execution_count": 29,
   "metadata": {
    "execution": {
     "iopub.execute_input": "2025-09-08T08:43:47.449761Z",
     "iopub.status.busy": "2025-09-08T08:43:47.449396Z",
     "iopub.status.idle": "2025-09-08T08:43:47.478052Z",
     "shell.execute_reply": "2025-09-08T08:43:47.476578Z",
     "shell.execute_reply.started": "2025-09-08T08:43:47.449731Z"
    },
    "trusted": true
   },
   "outputs": [],
   "source": [
    "from imblearn.over_sampling import SMOTE\n",
    "\n",
    "smote = SMOTE(random_state=42)\n",
    "X_train_resampled, y_train_resampled = smote.fit_resample(X_train, y_train)"
   ]
  },
  {
   "cell_type": "code",
   "execution_count": 31,
   "metadata": {
    "trusted": true
   },
   "outputs": [
    {
     "name": "stdout",
     "output_type": "stream",
     "text": [
      "Original class distribution:\n",
      " Class\n",
      "0    227451\n",
      "1       394\n",
      "Name: count, dtype: int64\n",
      "Resampled class distribution:\n",
      " Class\n",
      "0    227451\n",
      "1    227451\n",
      "Name: count, dtype: int64\n"
     ]
    }
   ],
   "source": [
    "print(\"Original class distribution:\\n\", y_train.value_counts())\n",
    "print(\"Resampled class distribution:\\n\", y_train_resampled.value_counts())"
   ]
  },
  {
   "cell_type": "markdown",
   "metadata": {},
   "source": [
    "***How SMOTE (Synthetic Minority Over-sampling Technique) works and its potential limitations?***\n",
    "\n",
    "SMOTE creates synthetic samples for the minority class by interpolating between existing minority instances and their nearest neighbors. This helps balance class distribution and improves model performance on imbalanced datasets.\n",
    "\n",
    "However, SMOTE can generate noisy or overlapping samples if the minority class is not well-defined or is close to the majority class. It may also lead to overfitting, especially when synthetic points reinforce rare patterns or noise.\n"
   ]
  },
  {
   "cell_type": "markdown",
   "metadata": {},
   "source": [
    "### Clustering-Based Oversampling (CBO) [10]"
   ]
  },
  {
   "cell_type": "markdown",
   "metadata": {},
   "source": [
    "**Clustering-Based Oversampling (CBO)** groups minority class samples into clusters and generates synthetic data within each cluster. This ensures synthetic samples reflect the internal structure and diversity of the minority class.\n",
    "\n",
    "By spreading new samples across clusters, CBO avoids over-concentration in dense areas and covers sparse regions, leading to a more balanced and representative oversampling."
   ]
  },
  {
   "cell_type": "code",
   "execution_count": 39,
   "metadata": {},
   "outputs": [
    {
     "data": {
      "image/png": "[encoded data removed]",
      "text/plain": [
       "<Figure size 800x400 with 1 Axes>"
      ]
     },
     "metadata": {},
     "output_type": "display_data"
    }
   ],
   "source": [
    "from sklearn.cluster import KMeans\n",
    "import matplotlib.pyplot as plt\n",
    "\n",
    "# Extract minority class samples from training data (fraud = 1)\n",
    "minority_class = X_train[y_train == 1]\n",
    "\n",
    "# Elbow Method to find optimal k (number of clusters)\n",
    "sse = []\n",
    "k_range = range(1, 10)  # test k=1 to 9\n",
    "\n",
    "for k in k_range:\n",
    "    kmeans = KMeans(n_clusters=k, random_state=42)\n",
    "    kmeans.fit(minority_class)\n",
    "    sse.append(kmeans.inertia_)  # sum of squared distances to closest cluster center\n",
    "\n",
    "# Plot SSE vs k to find the elbow\n",
    "plt.figure(figsize=(8, 4))\n",
    "plt.plot(k_range, sse, marker='o')\n",
    "plt.xlabel('Number of clusters (k)')\n",
    "plt.ylabel('Sum of Squared Errors (SSE)')\n",
    "plt.title('Elbow Method For Optimal k')\n",
    "plt.show()"
   ]
  },
  {
   "cell_type": "code",
   "execution_count": 40,
   "metadata": {},
   "outputs": [
    {
     "name": "stdout",
     "output_type": "stream",
     "text": [
      "Cluster\n",
      "1    152\n",
      "2    126\n",
      "0    116\n",
      "Name: count, dtype: int64\n"
     ]
    }
   ],
   "source": [
    "# Based on the elbow plot, choose k=3\n",
    "k = 3\n",
    "kmeans = KMeans(n_clusters=k, random_state=42)\n",
    "cluster_labels = kmeans.fit_predict(minority_class)\n",
    "\n",
    "# Add cluster labels to minority samples (optional)\n",
    "minority_class_clustered = minority_class.copy()\n",
    "minority_class_clustered['Cluster'] = cluster_labels\n",
    "\n",
    "print(minority_class_clustered['Cluster'].value_counts())\n"
   ]
  },
  {
   "cell_type": "code",
   "execution_count": 41,
   "metadata": {},
   "outputs": [
    {
     "name": "stdout",
     "output_type": "stream",
     "text": [
      "Samples per cluster before oversampling:\n",
      " Cluster\n",
      "1    152\n",
      "2    126\n",
      "0    116\n",
      "Name: count, dtype: int64\n",
      "\n",
      "Number of synthetic samples to generate per cluster:\n",
      " Cluster\n",
      "1    87596\n",
      "2    72612\n",
      "0    66849\n",
      "Name: count, dtype: int32\n",
      "\n",
      "Class distribution after clustering-based oversampling:\n",
      "0    227451\n",
      "1    227451\n",
      "Name: count, dtype: int64\n"
     ]
    }
   ],
   "source": [
    "from sklearn.utils import resample\n",
    "import pandas as pd\n",
    "\n",
    "# Number of majority samples in training set (for balancing)\n",
    "n_majority = y_train.value_counts()[0]\n",
    "n_minority = y_train.value_counts()[1]\n",
    "n_to_generate = n_majority - n_minority  # number of synthetic samples needed overall\n",
    "\n",
    "# Get count per cluster\n",
    "cluster_counts = minority_class_clustered['Cluster'].value_counts()\n",
    "print(\"Samples per cluster before oversampling:\\n\", cluster_counts)\n",
    "\n",
    "# Calculate proportion of each cluster in minority class\n",
    "cluster_proportions = cluster_counts / n_minority\n",
    "\n",
    "# Calculate number of synthetic samples to generate per cluster\n",
    "samples_per_cluster = (cluster_proportions * n_to_generate).round().astype(int)\n",
    "\n",
    "print(\"\\nNumber of synthetic samples to generate per cluster:\\n\", samples_per_cluster)\n",
    "\n",
    "# Generate synthetic samples by resampling with replacement within each cluster\n",
    "synthetic_samples = []\n",
    "\n",
    "for cluster_label, n_samples in samples_per_cluster.items():\n",
    "    cluster_data = minority_class_clustered[minority_class_clustered['Cluster'] == cluster_label].drop('Cluster', axis=1)\n",
    "    # Resample with replacement to generate synthetic points\n",
    "    synthetic_cluster_samples = resample(cluster_data, replace=True, n_samples=n_samples, random_state=42)\n",
    "    synthetic_samples.append(synthetic_cluster_samples)\n",
    "\n",
    "# Combine all synthetic samples into one DataFrame\n",
    "synthetic_samples_df = pd.concat(synthetic_samples, axis=0)\n",
    "\n",
    "# Create the new training dataset with original data + synthetic minority samples\n",
    "X_train_cbo = pd.concat([X_train, synthetic_samples_df], axis=0)\n",
    "y_train_cbo = pd.concat([y_train, pd.Series([1]*len(synthetic_samples_df), index=synthetic_samples_df.index)], axis=0)\n",
    "\n",
    "print(\"\\nClass distribution after clustering-based oversampling:\")\n",
    "print(y_train_cbo.value_counts())\n"
   ]
  },
  {
   "cell_type": "markdown",
   "metadata": {},
   "source": [
    "### Clustering-Based Undersampling (CBU) [5]"
   ]
  },
  {
   "cell_type": "markdown",
   "metadata": {},
   "source": [
    "**Clustering-Based Undersampling (CBU)** involves grouping the majority class into clusters to identify distinct sub-groups. By selecting representative samples from each cluster (e.g., cluster centroids or nearest points), we reduce the majority class size while preserving its internal diversity. This approach helps maintain a representative and balanced training set without losing important information.\n"
   ]
  },
  {
   "cell_type": "code",
   "execution_count": 42,
   "metadata": {},
   "outputs": [
    {
     "name": "stdout",
     "output_type": "stream",
     "text": [
      "Cluster\n",
      "180    1420\n",
      "90     1120\n",
      "366    1109\n",
      "21     1035\n",
      "6      1011\n",
      "       ... \n",
      "133       1\n",
      "205       1\n",
      "314       1\n",
      "294       1\n",
      "162       1\n",
      "Name: count, Length: 394, dtype: int64\n"
     ]
    }
   ],
   "source": [
    "from sklearn.cluster import KMeans\n",
    "\n",
    "# Extract majority class samples from training data (non-fraud = 0)\n",
    "majority_class = X_train[y_train == 0]\n",
    "\n",
    "# Choose number of clusters, e.g., equal to number of minority samples for balancing\n",
    "k_undersample = y_train.value_counts()[1]\n",
    "\n",
    "# Fit KMeans to majority class data\n",
    "kmeans_majority = KMeans(n_clusters=k_undersample, random_state=42)\n",
    "majority_clusters = kmeans_majority.fit_predict(majority_class)\n",
    "\n",
    "# Optional: add cluster labels to majority data\n",
    "majority_class_clustered = majority_class.copy()\n",
    "majority_class_clustered['Cluster'] = majority_clusters\n",
    "\n",
    "print(majority_class_clustered['Cluster'].value_counts())"
   ]
  },
  {
   "cell_type": "code",
   "execution_count": 46,
   "metadata": {},
   "outputs": [
    {
     "name": "stdout",
     "output_type": "stream",
     "text": [
      "Class distribution after CBU:\n",
      "1    394\n",
      "0    375\n",
      "Name: count, dtype: int64\n"
     ]
    }
   ],
   "source": [
    "from sklearn.utils import resample\n",
    "\n",
    "# Number of minority samples\n",
    "n_minority = y_train.value_counts()[1]\n",
    "\n",
    "# Cluster counts in majority class\n",
    "cluster_counts = majority_class_clustered['Cluster'].value_counts()\n",
    "\n",
    "# Proportional allocation of majority samples to match minority count\n",
    "cluster_proportions = cluster_counts / cluster_counts.sum()\n",
    "samples_per_cluster = (cluster_proportions * n_minority).round().astype(int)\n",
    "\n",
    "# Undersample majority clusters\n",
    "undersampled_majority = []\n",
    "\n",
    "for cluster_label, n_samples in samples_per_cluster.items():\n",
    "    if n_samples == 0:\n",
    "        continue  # Skip clusters with zero samples to draw\n",
    "    cluster_data = majority_class_clustered[majority_class_clustered['Cluster'] == cluster_label].drop('Cluster', axis=1)\n",
    "    sampled = resample(cluster_data, replace=False, n_samples=n_samples, random_state=42)\n",
    "    undersampled_majority.append(sampled)\n",
    "\n",
    "# Combine undersampled majority and full minority class\n",
    "undersampled_majority_df = pd.concat(undersampled_majority)\n",
    "minority_data = X_train[y_train == 1]\n",
    "\n",
    "X_train_cbu = pd.concat([undersampled_majority_df, minority_data])\n",
    "y_train_cbu = pd.Series([0]*len(undersampled_majority_df) + [1]*len(minority_data), index=X_train_cbu.index)\n",
    "\n",
    "# Final class balance\n",
    "print(\"Class distribution after CBU:\")\n",
    "print(y_train_cbu.value_counts())"
   ]
  },
  {
   "cell_type": "markdown",
   "metadata": {},
   "source": [
    "To preserve structure within the majority class, we performed clustering and then proportionally undersampled from each cluster based on its size. This ensures all sub-groups remain represented in the reduced dataset, preventing loss of important patterns while balancing the classes.\n"
   ]
  },
  {
   "cell_type": "code",
   "execution_count": 47,
   "metadata": {},
   "outputs": [
    {
     "name": "stdout",
     "output_type": "stream",
     "text": [
      "Final CBU training class distribution:\n",
      "1    394\n",
      "0    375\n",
      "Name: count, dtype: int64\n"
     ]
    }
   ],
   "source": [
    "# Combine undersampled majority class and full minority class\n",
    "minority_data = X_train[y_train == 1]\n",
    "\n",
    "X_train_cbu = pd.concat([undersampled_majority_df, minority_data], axis=0)\n",
    "y_train_cbu = pd.Series([0]*len(undersampled_majority_df) + [1]*len(minority_data), index=X_train_cbu.index)\n",
    "\n",
    "print(\"Final CBU training class distribution:\")\n",
    "print(y_train_cbu.value_counts())\n"
   ]
  },
  {
   "cell_type": "markdown",
   "metadata": {},
   "source": [
    "## Part C: Model Comparison and Analysis [15 points]"
   ]
  },
  {
   "cell_type": "markdown",
   "metadata": {},
   "source": [
    "### Train and Evaluate Models [5]"
   ]
  },
  {
   "cell_type": "code",
   "execution_count": 48,
   "metadata": {},
   "outputs": [
    {
     "name": "stdout",
     "output_type": "stream",
     "text": [
      "Model 2 (SMOTE) Evaluation:\n",
      "Accuracy: 0.9807942136863171\n",
      "Precision (Fraud): 0.075809199318569\n",
      "Recall (Fraud): 0.9081632653061225\n",
      "F1-score (Fraud): 0.139937106918239\n",
      "\n",
      "Classification Report:\n",
      "              precision    recall  f1-score   support\n",
      "\n",
      "           0       1.00      0.98      0.99     56864\n",
      "           1       0.08      0.91      0.14        98\n",
      "\n",
      "    accuracy                           0.98     56962\n",
      "   macro avg       0.54      0.94      0.57     56962\n",
      "weighted avg       1.00      0.98      0.99     56962\n",
      "\n"
     ]
    },
    {
     "data": {
      "image/png": "[encoded data removed]",
      "text/plain": [
       "<Figure size 640x480 with 2 Axes>"
      ]
     },
     "metadata": {},
     "output_type": "display_data"
    }
   ],
   "source": [
    "from sklearn.linear_model import LogisticRegression\n",
    "from sklearn.metrics import classification_report, confusion_matrix, accuracy_score, precision_score, recall_score, f1_score\n",
    "\n",
    "# Train Logistic Regression on SMOTE-resampled data\n",
    "model2 = LogisticRegression(max_iter=1000, random_state=42)\n",
    "model2.fit(X_train_resampled, y_train_resampled)\n",
    "\n",
    "# Predict on original (imbalanced) test set\n",
    "y_pred_smote = model2.predict(X_test)\n",
    "\n",
    "# Evaluation\n",
    "print(\"Model 2 (SMOTE) Evaluation:\")\n",
    "print(\"Accuracy:\", accuracy_score(y_test, y_pred_smote))\n",
    "print(\"Precision (Fraud):\", precision_score(y_test, y_pred_smote))\n",
    "print(\"Recall (Fraud):\", recall_score(y_test, y_pred_smote))\n",
    "print(\"F1-score (Fraud):\", f1_score(y_test, y_pred_smote))\n",
    "\n",
    "# Classification report and confusion matrix\n",
    "print(\"\\nClassification Report:\")\n",
    "print(classification_report(y_test, y_pred_smote))\n",
    "\n",
    "cm = confusion_matrix(y_test, y_pred_smote)\n",
    "sns.heatmap(cm, annot=True, fmt='d', cmap='Purples', xticklabels=['Not Fraud', 'Fraud'], yticklabels=['Not Fraud', 'Fraud'])\n",
    "plt.xlabel('Predicted')\n",
    "plt.ylabel('Actual')\n",
    "plt.title('Confusion Matrix - Model 2 (SMOTE)')\n",
    "plt.show()\n"
   ]
  },
  {
   "cell_type": "markdown",
   "metadata": {},
   "source": [
    "**Model 1 (Original Imbalanced Data)** achieved very high precision but missed some frauds, reflecting a conservative classifier. In contrast, **Model 2 (SMOTE)** significantly improved recall, catching more fraudulent transactions, but at the cost of very low precision — introducing many false alarms.\n",
    "\n",
    "This highlights the trade-off between **precision** and **recall** when dealing with class imbalance. SMOTE helps with recall but may harm precision due to synthetic samples not capturing true minority class distribution boundaries."
   ]
  },
  {
   "cell_type": "code",
   "execution_count": 49,
   "metadata": {},
   "outputs": [
    {
     "name": "stdout",
     "output_type": "stream",
     "text": [
      "Model 3 (CBO) Evaluation:\n",
      "Accuracy: 0.9613075383589059\n",
      "Precision (Fraud): 0.03937007874015748\n",
      "Recall (Fraud): 0.9183673469387755\n",
      "F1-score (Fraud): 0.07550335570469799\n",
      "\n",
      "Classification Report:\n",
      "              precision    recall  f1-score   support\n",
      "\n",
      "           0       1.00      0.96      0.98     56864\n",
      "           1       0.04      0.92      0.08        98\n",
      "\n",
      "    accuracy                           0.96     56962\n",
      "   macro avg       0.52      0.94      0.53     56962\n",
      "weighted avg       1.00      0.96      0.98     56962\n",
      "\n"
     ]
    },
    {
     "data": {
      "image/png": "[encoded data removed]",
      "text/plain": [
       "<Figure size 640x480 with 2 Axes>"
      ]
     },
     "metadata": {},
     "output_type": "display_data"
    }
   ],
   "source": [
    "# Train Logistic Regression on clustering-based oversampled data\n",
    "model3 = LogisticRegression(max_iter=1000, random_state=42)\n",
    "model3.fit(X_train_cbo, y_train_cbo)\n",
    "\n",
    "# Predict on original (imbalanced) test set\n",
    "y_pred_cbo = model3.predict(X_test)\n",
    "\n",
    "# Evaluation metrics\n",
    "print(\"Model 3 (CBO) Evaluation:\")\n",
    "print(\"Accuracy:\", accuracy_score(y_test, y_pred_cbo))\n",
    "print(\"Precision (Fraud):\", precision_score(y_test, y_pred_cbo))\n",
    "print(\"Recall (Fraud):\", recall_score(y_test, y_pred_cbo))\n",
    "print(\"F1-score (Fraud):\", f1_score(y_test, y_pred_cbo))\n",
    "\n",
    "# Detailed classification report\n",
    "print(\"\\nClassification Report:\")\n",
    "print(classification_report(y_test, y_pred_cbo))\n",
    "\n",
    "# Confusion matrix\n",
    "cm = confusion_matrix(y_test, y_pred_cbo)\n",
    "sns.heatmap(cm, annot=True, fmt='d', cmap='Oranges', xticklabels=['Not Fraud', 'Fraud'], yticklabels=['Not Fraud', 'Fraud'])\n",
    "plt.xlabel('Predicted')\n",
    "plt.ylabel('Actual')\n",
    "plt.title('Confusion Matrix - Model 3 (CBO)')\n",
    "plt.show()\n"
   ]
  },
  {
   "cell_type": "markdown",
   "metadata": {},
   "source": [
    "**Model 3: Logistic Regression with Clustering-Based Oversampling (CBO)**\n",
    "\n",
    "The CBO approach successfully improved recall to 92%, the highest among all models so far, indicating its strong ability to detect fraud. However, precision dropped to 4%, showing a high number of false positives. This trade-off is typical when aggressively oversampling the minority class, but CBO still offers a more targeted oversampling strategy than SMOTE by preserving cluster-level diversity."
   ]
  },
  {
   "cell_type": "code",
   "execution_count": 50,
   "metadata": {},
   "outputs": [
    {
     "name": "stdout",
     "output_type": "stream",
     "text": [
      "Model 4 (CBU) Evaluation:\n",
      "Accuracy: 0.9381693058530248\n",
      "Precision (Fraud): 0.024972253052164262\n",
      "Recall (Fraud): 0.9183673469387755\n",
      "F1-score (Fraud): 0.04862236628849271\n",
      "\n",
      "Classification Report:\n",
      "              precision    recall  f1-score   support\n",
      "\n",
      "           0       1.00      0.94      0.97     56864\n",
      "           1       0.02      0.92      0.05        98\n",
      "\n",
      "    accuracy                           0.94     56962\n",
      "   macro avg       0.51      0.93      0.51     56962\n",
      "weighted avg       1.00      0.94      0.97     56962\n",
      "\n"
     ]
    },
    {
     "data": {
      "image/png": "[encoded data removed]",
      "text/plain": [
       "<Figure size 640x480 with 2 Axes>"
      ]
     },
     "metadata": {},
     "output_type": "display_data"
    }
   ],
   "source": [
    "# Train Logistic Regression on CBU-balanced training data\n",
    "model4 = LogisticRegression(max_iter=1000, random_state=42)\n",
    "model4.fit(X_train_cbu, y_train_cbu)\n",
    "\n",
    "# Predict on original (imbalanced) test set\n",
    "y_pred_cbu = model4.predict(X_test)\n",
    "\n",
    "# Evaluation metrics\n",
    "print(\"Model 4 (CBU) Evaluation:\")\n",
    "print(\"Accuracy:\", accuracy_score(y_test, y_pred_cbu))\n",
    "print(\"Precision (Fraud):\", precision_score(y_test, y_pred_cbu))\n",
    "print(\"Recall (Fraud):\", recall_score(y_test, y_pred_cbu))\n",
    "print(\"F1-score (Fraud):\", f1_score(y_test, y_pred_cbu))\n",
    "\n",
    "# Detailed classification report\n",
    "print(\"\\nClassification Report:\")\n",
    "print(classification_report(y_test, y_pred_cbu))\n",
    "\n",
    "# Confusion matrix\n",
    "cm = confusion_matrix(y_test, y_pred_cbu)\n",
    "sns.heatmap(cm, annot=True, fmt='d', cmap='Greens', xticklabels=['Not Fraud', 'Fraud'], yticklabels=['Not Fraud', 'Fraud'])\n",
    "plt.xlabel('Predicted')\n",
    "plt.ylabel('Actual')\n",
    "plt.title('Confusion Matrix - Model 4 (CBU)')\n",
    "plt.show()"
   ]
  },
  {
   "cell_type": "markdown",
   "metadata": {},
   "source": [
    "**Model 4: Logistic Regression with Clustering-Based Undersampling (CBU)**\n",
    "\n",
    "The CBU approach reduces the majority class by undersampling within clusters, preserving the internal distribution of the majority data. This method achieved a high recall of 92%, indicating strong ability to detect fraudulent transactions. However, the precision was very low (around 2%), meaning a large number of false positives. The overall accuracy dropped compared to the original model due to this increased misclassification of non-fraud cases.\n",
    "\n",
    "CBU offers a way to balance data by intelligently reducing the majority class while maintaining cluster diversity, but it may require further tuning to improve precision without sacrificing recall."
   ]
  },
  {
   "cell_type": "markdown",
   "metadata": {},
   "source": [
    "### Performance Comparison [5]"
   ]
  },
  {
   "cell_type": "code",
   "execution_count": 51,
   "metadata": {},
   "outputs": [
    {
     "name": "stdout",
     "output_type": "stream",
     "text": [
      "      Model  Precision    Recall  F1-score\n",
      "0  Baseline   0.777778  0.714286  0.744681\n",
      "1     SMOTE   0.075809  0.908163  0.139937\n",
      "2       CBO   0.039370  0.918367  0.075503\n",
      "3       CBU   0.024972  0.918367  0.048622\n"
     ]
    },
    {
     "data": {
      "image/png": "[encoded data removed]",
      "text/plain": [
       "<Figure size 1000x600 with 1 Axes>"
      ]
     },
     "metadata": {},
     "output_type": "display_data"
    }
   ],
   "source": [
    "from sklearn.metrics import precision_score, recall_score, f1_score\n",
    "import pandas as pd\n",
    "import matplotlib.pyplot as plt\n",
    "import seaborn as sns\n",
    "\n",
    "# List of models and their names\n",
    "models = [model1, model2, model3, model4]\n",
    "model_names = ['Baseline', 'SMOTE', 'CBO', 'CBU']\n",
    "\n",
    "# Initialize lists to store metrics\n",
    "precisions, recalls, f1_scores = [], [], []\n",
    "\n",
    "# Evaluate each model on the same test set\n",
    "for model in models:\n",
    "    y_pred = model.predict(X_test)\n",
    "    precisions.append(precision_score(y_test, y_pred))\n",
    "    recalls.append(recall_score(y_test, y_pred))\n",
    "    f1_scores.append(f1_score(y_test, y_pred))\n",
    "\n",
    "# Create DataFrame for metrics\n",
    "df_metrics = pd.DataFrame({\n",
    "    'Model': model_names,\n",
    "    'Precision': precisions,\n",
    "    'Recall': recalls,\n",
    "    'F1-score': f1_scores\n",
    "})\n",
    "\n",
    "print(df_metrics)\n",
    "\n",
    "# Melt for plotting\n",
    "df_melt = df_metrics.melt(id_vars='Model', var_name='Metric', value_name='Score')\n",
    "\n",
    "# Plot comparison\n",
    "plt.figure(figsize=(10,6))\n",
    "sns.barplot(x='Model', y='Score', hue='Metric', data=df_melt, palette='Set2')\n",
    "plt.title('Precision, Recall, and F1-score Comparison of Fraud Detection Models')\n",
    "plt.ylim(0, 1)\n",
    "plt.ylabel('Score')\n",
    "plt.xlabel('Model')\n",
    "plt.legend(title='Metric')\n",
    "plt.show()\n"
   ]
  },
  {
   "cell_type": "markdown",
   "metadata": {},
   "source": [
    "### Conclusion and Recommendations [5]"
   ]
  },
  {
   "cell_type": "markdown",
   "metadata": {},
   "source": [
    "**Discussion:**\n",
    "\n",
    "The **Baseline** model has the highest precision and F1-score but lower recall, meaning it detects fraud cases more accurately but misses some. **SMOTE** and **CBO** significantly improve recall, capturing most frauds, but at the cost of very low precision, leading to many false positives. **CBU** also achieves high recall but with the lowest precision, indicating heavy false alarms. Overall, the baseline performs best in balancing precision and recall for this dataset, while oversampling and undersampling methods trade precision for recall to better detect rare fraud cases."
   ]
  },
  {
   "cell_type": "markdown",
   "metadata": {},
   "source": [
    "Clustering-based approaches improve upon naive SMOTE by capturing the internal structure and diversity within the minority (or majority) class. Instead of generating synthetic samples uniformly, clustering-based oversampling creates new points within distinct minority subgroups, reducing the risk of noisy or unrealistic samples. Similarly, clustering-based undersampling strategically removes majority instances while preserving representative subgroups, maintaining the data distribution better than random undersampling. This targeted approach helps avoid overfitting and improves model robustness."
   ]
  },
  {
   "cell_type": "markdown",
   "metadata": {},
   "source": [
    "**Recommendation:**\n",
    "\n",
    "For this fraud detection task, the **baseline model** offers the best balance between precision and recall, minimizing false alarms while detecting a significant portion of fraud cases. However, if the company prioritizes maximizing fraud detection (high recall) despite more false positives, **SMOTE** or **clustering-based oversampling (CBO)** are viable options. Given the better preservation of minority class structure, **CBO** is preferable over naive SMOTE. Clustering-based undersampling (CBU) showed lower precision and is less recommended. Ultimately, the choice depends on the business’s tolerance for false positives versus missed fraud."
   ]
  }
 ],
 "metadata": {
  "kaggle": {
   "accelerator": "none",
   "dataSources": [
    {
     "datasetId": 310,
     "sourceId": 23498,
     "sourceType": "datasetVersion"
    }
   ],
   "dockerImageVersionId": 31089,
   "isGpuEnabled": false,
   "isInternetEnabled": false,
   "language": "python",
   "sourceType": "notebook"
  },
  "kernelspec": {
   "display_name": ".venv",
   "language": "python",
   "name": "python3"
  },
  "language_info": {
   "codemirror_mode": {
    "name": "ipython",
    "version": 3
   },
   "file_extension": ".py",
   "mimetype": "text/x-python",
   "name": "python",
   "nbconvert_exporter": "python",
   "pygments_lexer": "ipython3",
   "version": "3.8.6"
  }
 },
 "nbformat": 4,
 "nbformat_minor": 4
}
